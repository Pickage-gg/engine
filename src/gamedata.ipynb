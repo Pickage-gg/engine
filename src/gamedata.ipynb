{
 "cells": [
  {
   "cell_type": "code",
   "execution_count": null,
   "metadata": {},
   "outputs": [],
   "source": [
    "import pandas as pd\n",
    "from bs4 import BeautifulSoup\n",
    "pd.set_option('display.max_columns', None) \n",
    "\n",
    "%load_ext autoreload\n",
    "%autoreload 2"
   ]
  },
  {
   "cell_type": "code",
   "execution_count": null,
   "metadata": {},
   "outputs": [],
   "source": [
    "import gamelog_scraper \n",
    "\n",
    "lebron_id = \"jamesle01\"\n",
    "\n",
    "gamelog_scraper.get_gamelog(lebron_id)"
   ]
  },
  {
   "cell_type": "code",
   "execution_count": null,
   "metadata": {},
   "outputs": [],
   "source": [
    "import json\n",
    "import time\n",
    "\n",
    "tableID = \"pgl_basic\"\n",
    "players_gamelog_dict = {}\n",
    "\n",
    "with open('../data/URI.json', 'r') as file:\n",
    "    data = json.load(file)\n",
    "\n",
    "for letter in data:\n",
    "    for player in data[letter]:\n",
    "        playerID = player[11:-5]\n",
    "        print(playerID)\n",
    "        \n",
    "        player_gamelog = gamelog_scraper.get_gamelog(playerID)\n",
    "        players_gamelog_dict[playerID] = player_gamelog\n",
    "        time.sleep(3.1)"
   ]
  }
 ],
 "metadata": {
  "kernelspec": {
   "display_name": ".venv",
   "language": "python",
   "name": "python3"
  },
  "language_info": {
   "codemirror_mode": {
    "name": "ipython",
    "version": 3
   },
   "file_extension": ".py",
   "mimetype": "text/x-python",
   "name": "python",
   "nbconvert_exporter": "python",
   "pygments_lexer": "ipython3",
   "version": "3.12.3"
  }
 },
 "nbformat": 4,
 "nbformat_minor": 2
}
